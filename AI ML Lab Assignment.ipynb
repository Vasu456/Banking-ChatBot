{
 "cells": [
  {
   "cell_type": "code",
   "execution_count": 2,
   "id": "267d84dc",
   "metadata": {},
   "outputs": [
    {
     "name": "stdout",
     "output_type": "stream",
     "text": [
      "Collecting pyttsx3\n",
      "  Downloading pyttsx3-2.90-py3-none-any.whl (39 kB)\n",
      "Collecting pypiwin32\n",
      "  Downloading pypiwin32-223-py3-none-any.whl (1.7 kB)\n",
      "Requirement already satisfied: pywin32 in c:\\users\\dell\\anaconda3\\lib\\site-packages (from pyttsx3) (302)\n",
      "Requirement already satisfied: comtypes in c:\\users\\dell\\anaconda3\\lib\\site-packages (from pyttsx3) (1.1.10)\n",
      "Installing collected packages: pypiwin32, pyttsx3\n",
      "Successfully installed pypiwin32-223 pyttsx3-2.90\n"
     ]
    }
   ],
   "source": [
    "!pip install pyttsx3"
   ]
  },
  {
   "cell_type": "code",
   "execution_count": 3,
   "id": "26f99ff8",
   "metadata": {},
   "outputs": [
    {
     "data": {
      "application/vnd.jupyter.widget-view+json": {
       "model_id": "9a26ebe59e274a90891a93ca43e146b1",
       "version_major": 2,
       "version_minor": 0
      },
      "text/plain": [
       "model.safetensors:   0%|          | 0.00/548M [00:00<?, ?B/s]"
      ]
     },
     "metadata": {},
     "output_type": "display_data"
    },
    {
     "name": "stderr",
     "output_type": "stream",
     "text": [
      "c:\\Users\\DELL\\anaconda3\\lib\\site-packages\\huggingface_hub\\file_download.py:149: UserWarning: `huggingface_hub` cache-system uses symlinks by default to efficiently store duplicated files but your machine does not support them in C:\\Users\\DELL\\.cache\\huggingface\\hub\\models--gpt2. Caching files will still work but in a degraded version that might require more space on your disk. This warning can be disabled by setting the `HF_HUB_DISABLE_SYMLINKS_WARNING` environment variable. For more details, see https://huggingface.co/docs/huggingface_hub/how-to-cache#limitations.\n",
      "To support symlinks on Windows, you either need to activate Developer Mode or to run Python as an administrator. In order to see activate developer mode, see this article: https://docs.microsoft.com/en-us/windows/apps/get-started/enable-your-device-for-development\n",
      "  warnings.warn(message)\n",
      "Some weights of GPT2ForSequenceClassification were not initialized from the model checkpoint at gpt2 and are newly initialized: ['score.weight']\n",
      "You should probably TRAIN this model on a down-stream task to be able to use it for predictions and inference.\n"
     ]
    }
   ],
   "source": [
    "from transformers import GPT2Tokenizer, GPT2ForSequenceClassification\n",
    "from transformers import GPT2Tokenizer, GPT2ForSequenceClassification\n",
    "from torch.utils.data import Dataset, DataLoader\n",
    "import torch\n",
    "\n",
    "# Define your dataset class\n",
    "class IntentDataset(Dataset):\n",
    "    def __init__(self, texts, labels, tokenizer, max_length):\n",
    "        self.texts = texts\n",
    "        self.labels = labels\n",
    "        self.tokenizer = tokenizer\n",
    "        self.max_length = max_length\n",
    "\n",
    "    def __len__(self):\n",
    "        return len(self.texts)\n",
    "\n",
    "    def __getitem__(self, idx):\n",
    "        text = self.texts[idx]\n",
    "        label = self.labels[idx]\n",
    "\n",
    "        encoding = self.tokenizer(text, truncation=True, padding=True, max_length=self.max_length, return_tensors='pt')\n",
    "        return {\n",
    "            'input_ids': encoding['input_ids'].flatten(),\n",
    "            'attention_mask': encoding['attention_mask'].flatten(),\n",
    "            'labels': torch.tensor(label, dtype=torch.long)\n",
    "        }\n",
    "\n",
    "# Example data\n",
    "train_texts = [\n",
    "    \"I want to transfer money\",\n",
    "    \"Can you help me send money?\",\n",
    "    \"I need to send funds to my friend\",\n",
    "    \"How can I get my account details?\",\n",
    "    \"Where can I find information about my account?\",\n",
    "    \"Can you tell me my account balance?\",\n",
    "    \"I wish to retrieve my account details\",\n",
    "    \"How much money is left in my account?\",\n",
    "    \"Amount of money left in my account\"\n",
    "]\n",
    "train_labels = [0, 0, 0, 1, 1, 2, 1, 2,2]  # 0 for transfer money, 1 for get account details, 2 for get account balance\n",
    "\n",
    "# Initialize tokenizer and model\n",
    "tokenizer = GPT2Tokenizer.from_pretrained('gpt2')\n",
    "tokenizer.add_special_tokens({'pad_token': '[PAD]'})\n",
    "model = GPT2ForSequenceClassification.from_pretrained('gpt2', num_labels=3)  # 3 labels: transfer money, get account details, get account balance\n",
    "\n",
    "# Create dataset and dataloader\n",
    "train_dataset = IntentDataset(train_texts, train_labels, tokenizer, max_length=32)\n",
    "train_loader = DataLoader(train_dataset, batch_size=1, shuffle=True)\n",
    "\n",
    "# Fine-tune the model\n",
    "optimizer = torch.optim.AdamW(model.parameters(), lr=5e-5)\n",
    "for epoch in range(3):  # Train for 3 epochs as an example\n",
    "    model.train()\n",
    "    for batch in train_loader:\n",
    "        input_ids = batch['input_ids']\n",
    "        attention_mask = batch['attention_mask']\n",
    "        labels = batch['labels']\n",
    "\n",
    "        optimizer.zero_grad()\n",
    "        outputs = model(input_ids=input_ids, attention_mask=attention_mask, labels=labels)\n",
    "        loss = outputs.loss\n",
    "        loss.backward()\n",
    "        optimizer.step()\n",
    "\n",
    "# After fine-tuning, use the model for inference\n",
    "def predict_intent(text):\n",
    "    inputs = tokenizer(text, truncation=True, padding=True, max_length=32, return_tensors='pt')\n",
    "    outputs = model(**inputs)\n",
    "    predicted_class = torch.argmax(outputs.logits).item()\n",
    "    if predicted_class == 0:\n",
    "        return \"User wants to transfer money.\"\n",
    "    elif predicted_class == 1:\n",
    "        return \"User wants to get account details.\"\n",
    "    elif predicted_class == 2:\n",
    "        return \"User wants to get account balance.\"\n",
    "    else:\n",
    "        return \"Unable to determine user's intent.\"\n"
   ]
  },
  {
   "cell_type": "code",
   "execution_count": 15,
   "id": "2f33f864",
   "metadata": {},
   "outputs": [
    {
     "data": {
      "text/plain": [
       "('model\\\\tokenizer_config.json',\n",
       " 'model\\\\special_tokens_map.json',\n",
       " 'model\\\\vocab.json',\n",
       " 'model\\\\merges.txt',\n",
       " 'model\\\\added_tokens.json')"
      ]
     },
     "execution_count": 15,
     "metadata": {},
     "output_type": "execute_result"
    }
   ],
   "source": [
    "# Save the fine-tuned model\n",
    "save_path = \"model\"\n",
    "model.save_pretrained(save_path)\n",
    "tokenizer.save_pretrained(save_path)"
   ]
  },
  {
   "cell_type": "code",
   "execution_count": null,
   "id": "b30c42ec",
   "metadata": {},
   "outputs": [],
   "source": [
    "# Load the saved model and tokenizer\n",
    "save_path = \"model\"\n",
    "loaded_model = GPT2ForSequenceClassification.from_pretrained(save_path, num_labels=3)\n",
    "loaded_tokenizer = GPT2Tokenizer.from_pretrained(save_path)\n",
    "\n",
    "# Example inference using the loaded model and tokenizer\n",
    "\n",
    "def predict_intent(text):\n",
    "    inputs = loaded_tokenizer(text, truncation=True, padding=True, max_length=32, return_tensors='pt')\n",
    "    outputs = loaded_model(**inputs)\n",
    "    predicted_class = torch.argmax(outputs.logits).item()\n",
    "    if predicted_class == 0:\n",
    "        return \"User wants to transfer money.\"\n",
    "    elif predicted_class == 1:\n",
    "        return \"User wants to get account details.\"\n",
    "    elif predicted_class == 2:\n",
    "        return \"User wants to get account balance.\"\n",
    "    else:\n",
    "        return \"Unable to determine user's intent.\"\n"
   ]
  },
  {
   "cell_type": "code",
   "execution_count": 6,
   "id": "22ad732e",
   "metadata": {},
   "outputs": [
    {
     "name": "stdout",
     "output_type": "stream",
     "text": [
      "Collecting SpeechRecognition\n",
      "  Downloading SpeechRecognition-3.10.1-py2.py3-none-any.whl (32.8 MB)\n",
      "     --------------------------------------- 32.8/32.8 MB 73.7 kB/s eta 0:00:00\n",
      "Requirement already satisfied: requests>=2.26.0 in c:\\users\\dell\\anaconda3\\lib\\site-packages (from SpeechRecognition) (2.28.1)\n",
      "Requirement already satisfied: typing-extensions in c:\\users\\dell\\anaconda3\\lib\\site-packages (from SpeechRecognition) (4.3.0)\n",
      "Requirement already satisfied: charset-normalizer<3,>=2 in c:\\users\\dell\\anaconda3\\lib\\site-packages (from requests>=2.26.0->SpeechRecognition) (2.0.4)\n",
      "Requirement already satisfied: certifi>=2017.4.17 in c:\\users\\dell\\anaconda3\\lib\\site-packages (from requests>=2.26.0->SpeechRecognition) (2022.9.14)\n",
      "Requirement already satisfied: urllib3<1.27,>=1.21.1 in c:\\users\\dell\\anaconda3\\lib\\site-packages (from requests>=2.26.0->SpeechRecognition) (1.26.11)\n",
      "Requirement already satisfied: idna<4,>=2.5 in c:\\users\\dell\\anaconda3\\lib\\site-packages (from requests>=2.26.0->SpeechRecognition) (3.3)\n",
      "Installing collected packages: SpeechRecognition\n",
      "Successfully installed SpeechRecognition-3.10.1\n"
     ]
    }
   ],
   "source": [
    "!pip install SpeechRecognition"
   ]
  },
  {
   "cell_type": "code",
   "execution_count": 8,
   "id": "647eac0e",
   "metadata": {},
   "outputs": [
    {
     "name": "stdout",
     "output_type": "stream",
     "text": [
      "Collecting pyaudio\n",
      "  Downloading PyAudio-0.2.14-cp39-cp39-win_amd64.whl (164 kB)\n",
      "     ------------------------------------ 164.1/164.1 kB 281.2 kB/s eta 0:00:00\n",
      "Installing collected packages: pyaudio\n",
      "Successfully installed pyaudio-0.2.14\n"
     ]
    }
   ],
   "source": [
    "!pip install pyaudio"
   ]
  },
  {
   "cell_type": "code",
   "execution_count": 18,
   "id": "92e9e449",
   "metadata": {},
   "outputs": [
    {
     "data": {
      "text/plain": [
       "'User wants to get account balance.'"
      ]
     },
     "execution_count": 18,
     "metadata": {},
     "output_type": "execute_result"
    }
   ],
   "source": [
    "\n",
    "predict_intent(\"hello i want to know my account balance\")"
   ]
  },
  {
   "cell_type": "code",
   "execution_count": 10,
   "id": "dc269361",
   "metadata": {},
   "outputs": [
    {
     "name": "stdout",
     "output_type": "stream",
     "text": [
      "Listening...\n",
      "Recognizing...\n",
      "User said: existing user\n",
      "Listening...\n",
      "Recognizing...\n",
      "User said: I want to know how much money is left in my account\n"
     ]
    }
   ],
   "source": [
    "import json\n",
    "import pyttsx3\n",
    "import speech_recognition as sr\n",
    "\n",
    "def text_to_speech(text):\n",
    "    # Initialize the text-to-speech engine\n",
    "    engine = pyttsx3.init()\n",
    "    \n",
    "    # Set properties (optional)\n",
    "    engine.setProperty('rate', 150)  # Speed of speech\n",
    "    engine.setProperty('volume', 1)   # Volume (0.0 to 1.0)\n",
    "    \n",
    "    # Convert the text to speech and speak it\n",
    "    engine.say(text)\n",
    "    \n",
    "    # Wait for speech to finish\n",
    "    engine.runAndWait()\n",
    "\n",
    "def speech_to_text():\n",
    "    # Initialize recognizer\n",
    "    recognizer = sr.Recognizer()\n",
    "\n",
    "    with sr.Microphone() as source:\n",
    "        print(\"Listening...\")\n",
    "        recognizer.adjust_for_ambient_noise(source)\n",
    "        audio = recognizer.listen(source)\n",
    "\n",
    "    try:\n",
    "        print(\"Recognizing...\")\n",
    "        # Convert speech to text\n",
    "        user_input = recognizer.recognize_google(audio)\n",
    "        print(\"User said:\", user_input)\n",
    "        return user_input\n",
    "    except sr.UnknownValueError:\n",
    "        print(\"Sorry, I couldn't understand what you said.\")\n",
    "    except sr.RequestError as e:\n",
    "        print(\"Sorry, I couldn't request results. Please check your internet connection.\")\n",
    "\n",
    "def insert_user(name, account_number, balance):\n",
    "    # Load existing user data from JSON file\n",
    "    with open('users.json', 'r') as file:\n",
    "        users = json.load(file)\n",
    "\n",
    "    # Append new user data\n",
    "    users.append({\n",
    "        \"name\": name,\n",
    "        \"account_number\": account_number,\n",
    "        \"balance\": balance\n",
    "    })\n",
    "\n",
    "    # Write updated user data back to JSON file\n",
    "    with open('users.json', 'w') as file:\n",
    "        json.dump(users, file)\n",
    "\n",
    "def get_user(account_number):\n",
    "    # Load existing user data from JSON file\n",
    "    with open('users.json', 'r') as file:\n",
    "        users = json.load(file)\n",
    "\n",
    "    # Find user by account number\n",
    "    for user in users:\n",
    "        if user[\"account_number\"] == account_number:\n",
    "            return user\n",
    "\n",
    "    # Return None if user not found\n",
    "    return None\n",
    "\n",
    "def banking_chatbot():\n",
    "    # Introduction\n",
    "    text_to_speech(\"Hello, Welcome to Banking Chatbot. Are you a new user or an existing user?\")\n",
    "    \n",
    "    # Get user response\n",
    "    user_response = speech_to_text()\n",
    "    \n",
    "    if user_response:\n",
    "        if \"new\" in user_response:\n",
    "            # Ask for new user details\n",
    "            text_to_speech(\"Please provide your name.\")\n",
    "            name = input(\"Name: \")\n",
    "            text_to_speech(\"Please provide your account number.\")\n",
    "            account_number = input(\"Account Number: \")\n",
    "            text_to_speech(\"Please provide your account balance.\")\n",
    "            balance = int(input(\"Account Balance: \"))\n",
    "            \n",
    "            # Insert new user details into the JSON file\n",
    "            insert_user(name, account_number, balance)\n",
    "            \n",
    "            # Confirmation message\n",
    "            text_to_speech(\"Your details have been successfully stored.\")\n",
    "        elif \"existing\" in user_response:\n",
    "            # Ask for existing user details\n",
    "            text_to_speech(\"Please enter your account number for authentication.\")\n",
    "            account_number = input(\"Account Number: \")\n",
    "\n",
    "            # Get user data\n",
    "            user = get_user(account_number)\n",
    "            \n",
    "            if user:\n",
    "                # Ask for authentication code\n",
    "                text_to_speech(\"Please enter your authentication code.\")\n",
    "                authentication_code = input(\"Authentication Code: \")\n",
    "                \n",
    "                # Dummy authentication check (replace with actual authentication mechanism)\n",
    "                if authentication_code == \"1234\":\n",
    "                    text_to_speech(\"Authentication successful.\")\n",
    "                    \n",
    "                    # Present service options to the user\n",
    "                    text_to_speech(\"I provide three types of services: transfer money, get account details, and get account balance. What type of service do you want?\")\n",
    "                    \n",
    "                    # Get user's desired service\n",
    "                    service_type = predict_intent(speech_to_text())\n",
    "                    \n",
    "                    # Process the service type\n",
    "                    if \"transfer money\" in service_type:\n",
    "                        text_to_speech(\"You have chosen to transfer money.\")\n",
    "                        # Ask for recipient account number\n",
    "                        text_to_speech(\"Please type the account number to which you want to transfer money.\")\n",
    "                        recipient_account_number = input(\"Recipient Account Number: \")\n",
    "                        # Get recipient user data\n",
    "                        recipient_user = get_user(recipient_account_number)\n",
    "                        if recipient_user:\n",
    "                            # Ask for transfer amount\n",
    "                            text_to_speech(\"Please type the amount you wish to transfer.\")\n",
    "                            transfer_amount = float(input(\"Transfer Amount: \"))\n",
    "                            # Check if the transfer amount is greater than account balance\n",
    "                            if transfer_amount <= user[\"balance\"]:\n",
    "                                # Perform the transaction\n",
    "                                user[\"balance\"] -= transfer_amount\n",
    "                                recipient_user[\"balance\"] += transfer_amount\n",
    "                                # Update user data in JSON file\n",
    "                                with open('users.json', 'w') as file:\n",
    "                                    json.dump(user, file)\n",
    "                                    json.dump(recipient_user, file)\n",
    "                                text_to_speech(\"Transaction successful.\")\n",
    "                            else:\n",
    "                                text_to_speech(\"Transaction failed. Insufficient balance.\")\n",
    "                        else:\n",
    "                            text_to_speech(\"Transaction failed. Recipient account does not exist.\")\n",
    "                    elif \"get account details\" in service_type:\n",
    "                        text_to_speech(\"You have chosen to get account details.\")\n",
    "                        # Retrieve and display account details\n",
    "                        text_to_speech(f\"Name: {user['name']}\")\n",
    "                        text_to_speech(f\"Account Number: {user['account_number']}\")\n",
    "                        text_to_speech(f\"Account Balance: {user['balance']}\")\n",
    "                    elif \"get account balance\" in service_type:\n",
    "                        text_to_speech(\"You have chosen to get account balance.\")\n",
    "                        # Display account balance\n",
    "                        text_to_speech(f\"Your account balance is {user['balance']}.\")\n",
    "                    else:\n",
    "                        text_to_speech(\"Sorry, I couldn't understand your service choice.\")\n",
    "                else:\n",
    "                    text_to_speech(\"Sorry, authentication failed. Please try again.\")\n",
    "            else:\n",
    "                text_to_speech(\"Sorry, the account number provided does not exist.\")\n",
    "        else:\n",
    "            text_to_speech(\"Sorry, I couldn't understand your response. Please try again.\")\n",
    "    else:\n",
    "        text_to_speech(\"Sorry, I couldn't understand you. Please try again.\")\n",
    "\n",
    "# Call the function to start the banking chatbot\n",
    "banking_chatbot()\n"
   ]
  },
  {
   "cell_type": "code",
   "execution_count": null,
   "id": "ea767b27",
   "metadata": {},
   "outputs": [],
   "source": []
  }
 ],
 "metadata": {
  "kernelspec": {
   "display_name": "Python 3 (ipykernel)",
   "language": "python",
   "name": "python3"
  },
  "language_info": {
   "codemirror_mode": {
    "name": "ipython",
    "version": 3
   },
   "file_extension": ".py",
   "mimetype": "text/x-python",
   "name": "python",
   "nbconvert_exporter": "python",
   "pygments_lexer": "ipython3",
   "version": "3.9.13"
  }
 },
 "nbformat": 4,
 "nbformat_minor": 5
}
